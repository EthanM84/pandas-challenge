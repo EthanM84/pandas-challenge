{
 "cells": [
  {
   "cell_type": "code",
   "execution_count": null,
   "id": "38241907-82de-4a20-a59d-9b1f46616b08",
   "metadata": {
    "tags": []
   },
   "outputs": [],
   "source": [
    "# Dependencies and Setup\n",
    "import pandas as pd\n",
    "from pathlib import Path"
   ]
  },
  {
   "cell_type": "code",
   "execution_count": null,
   "id": "464782d8-1af7-4f56-8ab0-876c0c495e60",
   "metadata": {
    "tags": []
   },
   "outputs": [],
   "source": [
    "# File to Load (Remember to Change These)\n",
    "school_data_to_load = Path(\"Resources/schools_complete.csv\")\n",
    "student_data_to_load = Path(\"Resources/students_complete.csv\")"
   ]
  },
  {
   "cell_type": "code",
   "execution_count": null,
   "id": "7e8811dc-8741-4a88-8196-285c2dc3966b",
   "metadata": {},
   "outputs": [],
   "source": [
    "# Read School and Student Data File and store into Pandas DataFrames\n",
    "school_data = pd.read_csv(\"Resources/schools_complete.csv\")\n",
    "student_data = pd.read_csv(\"Resources/students_complete.csv\")"
   ]
  },
  {
   "cell_type": "code",
   "execution_count": null,
   "id": "1ec1b781-84f9-4821-8b1d-027794da0238",
   "metadata": {},
   "outputs": [],
   "source": [
    "# Combine the data into a single dataset.  \n",
    "school_data_complete = pd.merge(student_data, school_data, how=\"left\", on=[\"school_name\", \"school_name\"])\n",
    "school_data_complete.head()"
   ]
  },
  {
   "cell_type": "code",
   "execution_count": null,
   "id": "e90c9c6a-df01-4738-948c-9225ec2cdc44",
   "metadata": {},
   "outputs": [],
   "source": [
    "#Calculate the total number of unique schools\n",
    "school_count = total_schools = school_data_complete['School ID'].nunique()\n",
    "print(f'Total number of unique schools: {total_schools}')"
   ]
  },
  {
   "cell_type": "code",
   "execution_count": null,
   "id": "abe2480e-81dc-4299-be5e-36600b0a1fcc",
   "metadata": {},
   "outputs": [],
   "source": [
    "# Calculate the total number of students\n",
    "student_count = school_data_complete['Student ID'].nunique()\n",
    "print(f'Total number of students: {student_count}')"
   ]
  },
  {
   "cell_type": "code",
   "execution_count": null,
   "id": "24e26309-4261-4867-8bea-8f8b22a46283",
   "metadata": {},
   "outputs": [],
   "source": [
    "# Calculate the total budget\n",
    "total_budget = school_data['budget'].sum()\n",
    "print(f'Total budget: ${total_budget:,.2f}')"
   ]
  },
  {
   "cell_type": "code",
   "execution_count": null,
   "id": "f6f6c666-92f1-4e1d-9b7e-745837f31557",
   "metadata": {},
   "outputs": [],
   "source": [
    "# Calculate the average (mean) math score\n",
    "average_math_score = school_data_complete['math_score'].mean()\n",
    "print(f'Average math score: {average_math_score}')"
   ]
  },
  {
   "cell_type": "code",
   "execution_count": null,
   "id": "dc8c3a78-e9c6-47df-b5a5-91b75f66c146",
   "metadata": {},
   "outputs": [],
   "source": [
    "# Calculate the average (mean) reading score\n",
    "average_reading_score = school_data_complete['reading_score'].mean()\n",
    "print(f'Average reading score: {average_reading_score}')"
   ]
  },
  {
   "cell_type": "code",
   "execution_count": null,
   "id": "a58f40e3-1d1b-44a5-bc29-ba9c5b49c20f",
   "metadata": {},
   "outputs": [],
   "source": [
    "# Use the following to calculate the percentage of students who passed math (math scores greather than or equal to 70)\n",
    "passing_score = 70\n",
    "passing_math_count = school_data_complete[(school_data_complete[\"math_score\"] >= passing_score)].count()[\"student_name\"]\n",
    "passing_math_percentage = passing_math_count / float(student_count) * 100\n",
    "# print(f'Passing math percentage: {passing_math_percentage}')\n",
    "passing_math_percentage"
   ]
  },
  {
   "cell_type": "code",
   "execution_count": null,
   "id": "2c8ee590-cebe-4930-97dc-667b9f48b80d",
   "metadata": {},
   "outputs": [],
   "source": [
    "# Create boolean column for passing reading\n",
    "school_data_complete['passing_reading'] = school_data_complete['reading_score'] >= passing_score\n",
    "\n",
    "# Calculate passing reading percentage\n",
    "passing_reading_percentage = school_data_complete['passing_reading'].mean() * 100\n",
    "\n",
    "print(f'Passing reading percentage: {passing_reading_percentage:.2f}%')"
   ]
  },
  {
   "cell_type": "code",
   "execution_count": null,
   "id": "a8b6a17c-d157-4bec-85a2-472277b228e4",
   "metadata": {},
   "outputs": [],
   "source": [
    "# Use the following to calculate the percentage of students that passed math and reading\n",
    "passing_math_reading_count = school_data_complete[\n",
    "    (school_data_complete[\"math_score\"] >= passing_score) & (school_data_complete[\"reading_score\"] >= passing_score)\n",
    "].count()[\"student_name\"]\n",
    "overall_passing_rate = passing_math_reading_count /  float(student_count) * 100\n",
    "print(f'Percentage of students that passed math and reading: {overall_passing_rate}')"
   ]
  },
  {
   "cell_type": "code",
   "execution_count": null,
   "id": "a735245e-663f-4199-9f26-be29116fec36",
   "metadata": {},
   "outputs": [],
   "source": [
    "# # Calculate passing math percentage\n",
    "school_data_complete['passing_math'] = school_data_complete['math_score'] >= passing_score\n",
    "# # passing_math_percentage = school_data_complete['passing_math'].mean() * 100\n",
    "\n",
    "# # Calculate passing reading percentage\n",
    "# # school_data_complete['passing_reading'] = school_data_complete['reading_score'] >= passing_score\n",
    "# passing_reading_percentage = school_data_complete['passing_reading'].mean() * 100\n",
    "\n",
    "# # Create boolean column for passing both math and reading\n",
    "school_data_complete['passing_overall'] = (school_data_complete['passing_math'] & school_data_complete['passing_reading'])\n",
    "\n",
    "# Calculate overall passing percentage\n",
    "overall_passing_percentage = school_data_complete['passing_overall'].mean() * 100\n",
    "\n",
    "print(f'Overall passing percentage: {overall_passing_percentage:.2f}%')\n"
   ]
  },
  {
   "cell_type": "code",
   "execution_count": null,
   "id": "ef07a798-8b35-4722-af11-d1c0316b4dc5",
   "metadata": {},
   "outputs": [],
   "source": [
    "# Create a high-level snapshot of the district's key metrics in a DataFrame\n",
    "district_summary_df = pd.DataFrame({\n",
    "    'Total Schools': [total_schools],\n",
    "    'Total Students': [student_count],\n",
    "    'Total Budget': [total_budget],\n",
    "    'Average Math Score': [average_math_score],\n",
    "    'Average Reading Score': [average_reading_score],\n",
    "    '% Passing Math' : [passing_math_percentage],\n",
    "    '% Passing Reading' : [passing_reading_percentage],\n",
    "    '% Overall Passing' : [overall_passing_percentage]\n",
    "})\n",
    "\n",
    "\n",
    "# Formatting\n",
    "district_summary_df[\"Total Students\"] = district_summary_df[\"Total Students\"].map(\"{:,}\".format)\n",
    "district_summary_df[\"Total Budget\"] = district_summary_df[\"Total Budget\"].map(\"${:,.2f}\".format)\n",
    "\n",
    "# Display the DataFrame\n",
    "district_summary_df"
   ]
  },
  {
   "cell_type": "code",
   "execution_count": null,
   "id": "e64da0aa-036f-4863-a680-f495180003c8",
   "metadata": {},
   "outputs": [],
   "source": [
    "# Use the code provided to select all of the school types\n",
    "school_type = school_data['type']"
   ]
  },
  {
   "cell_type": "code",
   "execution_count": null,
   "id": "d5f132ac-448f-47e9-9c90-c59485514393",
   "metadata": {
    "tags": []
   },
   "outputs": [],
   "source": [
    "student_count_per_school = school_data_complete.groupby('school_name').count()['Student ID']"
   ]
  },
  {
   "cell_type": "code",
   "execution_count": null,
   "id": "eb270830-6a7d-4fec-b6fd-a6e5b99b7cfd",
   "metadata": {},
   "outputs": [],
   "source": [
    "# Calculate the total school budget and per capita spending per school\n",
    "# Calculate total school budget\n",
    "total_school_budget = school_data.groupby('school_name')['budget'].sum()\n",
    "\n",
    "# Calculate per capita spending per school\n",
    "per_capita_spending = total_school_budget / student_count\n"
   ]
  },
  {
   "cell_type": "code",
   "execution_count": null,
   "id": "a2f05816-0977-4019-9a1b-6f717c2e7104",
   "metadata": {},
   "outputs": [],
   "source": [
    "# Group data by school name\n",
    "by_school = school_data_complete.groupby('school_name')\n",
    "\n",
    "# Calculate the total number of students per school\n",
    "total_students = by_school['Student ID'].count()\n",
    "\n",
    "# Calculate the total budget per school\n",
    "total_budget = school_data.set_index('school_name')['budget']\n",
    "\n",
    "# Calculate the per-student budget per school\n",
    "per_student_budget = total_budget / total_students\n",
    "\n",
    "# Calculate the average math score per school\n",
    "avg_math_score = by_school['math_score'].mean()\n",
    "\n",
    "# Calculate the average reading score per school\n",
    "avg_reading_score = by_school['reading_score'].mean()\n",
    "\n",
    "# Calculate the percentage of students passing math per school\n",
    "passing_math_percent = school_data_complete[school_data_complete['math_score'] >= passing_score].groupby('school_name')['Student ID'].count() / total_students * 100\n",
    "\n",
    "# Calculate the percentage of students passing reading per school\n",
    "passing_reading_percent = school_data_complete[school_data_complete['reading_score'] >= passing_score].groupby('school_name')['Student ID'].count() / total_students * 100\n",
    "\n",
    "# Calculate the percentage of students passing both math and reading per school\n",
    "overall_passing_percent = school_data_complete[(school_data_complete['math_score'] >= passing_score) & (school_data_complete['reading_score'] >= passing_score)].groupby('school_name')['Student ID'].count() / total_students * 100\n",
    "\n",
    "# Create a DataFrame to store the results\n",
    "results = pd.DataFrame({\n",
    "    \"School Type\": school_data.set_index('school_name')['type'],\n",
    "    \"Total Students\": total_students,\n",
    "    \"Total School Budget\": total_budget,\n",
    "    \"Per Student Budget\": per_student_budget,\n",
    "    \"Average Math Score\": avg_math_score,\n",
    "    \"Average Reading Score\": avg_reading_score,\n",
    "    \"% Passing Math\": passing_math_percent,\n",
    "    \"% Passing Reading\": passing_reading_percent,\n",
    "    \"% Overall Passing\": overall_passing_percent\n",
    "})\n",
    "\n",
    "# # Format the output\n",
    "results[\"Total School Budget\"] = results[\"Total School Budget\"].map(\"${:,.2f}\".format)\n",
    "results[\"Per Student Budget\"] = results[\"Per Student Budget\"].map(\"${:,.2f}\".format)\n",
    "\n",
    "# # Display the results\n",
    "# print(results)\n",
    "results_df = pd.DataFrame(results)\n",
    "results_df.index.name = None\n",
    "results_df"
   ]
  },
  {
   "cell_type": "code",
   "execution_count": null,
   "id": "dd357ad6-7b39-4ba8-b5c3-77b6965ccb9f",
   "metadata": {},
   "outputs": [],
   "source": [
    "# Sort the schools by `% Overall Passing` in descending order and display the top 5 rows.\n",
    "top_performing_schools = results_df.sort_values(\"% Overall Passing\", ascending=False)\n",
    "top_performing_schools.head(5)\n"
   ]
  },
  {
   "cell_type": "code",
   "execution_count": null,
   "id": "dd187e50-1eec-4f3b-badd-a08ca846bfde",
   "metadata": {},
   "outputs": [],
   "source": [
    "# Sort the schools by `% Overall Passing` in ascending order and display the top 5 rows.\n",
    "Bottom_performing_schools = results_df.sort_values(\"% Overall Passing\", ascending=True)\n",
    "Bottom_performing_schools.head(5)"
   ]
  },
  {
   "cell_type": "code",
   "execution_count": null,
   "id": "7da637d8-0133-4f80-b394-ab6b1b8cb2f2",
   "metadata": {},
   "outputs": [],
   "source": [
    "# Use the code provided to separate the data by grade\n",
    "ninth_graders = school_data_complete[(school_data_complete[\"grade\"] == \"9th\")]\n",
    "tenth_graders = school_data_complete[(school_data_complete[\"grade\"] == \"10th\")]\n",
    "eleventh_graders = school_data_complete[(school_data_complete[\"grade\"] == \"11th\")]\n",
    "twelfth_graders = school_data_complete[(school_data_complete[\"grade\"] == \"12th\")]\n",
    "\n",
    "# Group by `school_name` and take the mean of the `math_score` column for each grade level\n",
    "ninth_grade_math_scores = ninth_graders.groupby(\"school_name\")[\"math_score\"].mean()\n",
    "tenth_grade_math_scores = tenth_graders.groupby(\"school_name\")[\"math_score\"].mean()\n",
    "eleventh_grade_math_scores = eleventh_graders.groupby(\"school_name\")[\"math_score\"].mean()\n",
    "twelfth_grade_math_scores = twelfth_graders.groupby(\"school_name\")[\"math_score\"].mean()\n",
    "\n",
    "# Create a DataFrame to hold the above results\n",
    "math_scores_by_grade = pd.DataFrame({\n",
    "    \"9th\": ninth_grade_math_scores,\n",
    "    \"10th\": tenth_grade_math_scores,\n",
    "    \"11th\": eleventh_grade_math_scores,\n",
    "    \"12th\": twelfth_grade_math_scores\n",
    "})\n",
    "\n",
    "# Remove the index name\n",
    "math_scores_by_grade.index.name = None\n",
    "\n",
    "# Display the DataFrame\n",
    "math_scores_by_grade\n"
   ]
  },
  {
   "cell_type": "code",
   "execution_count": null,
   "id": "0d873157-4b63-49d7-8bbc-54b804211ab0",
   "metadata": {},
   "outputs": [],
   "source": [
    "# Use the code provided to separate the data by grade\n",
    "ninth_graders = school_data_complete[(school_data_complete[\"grade\"] == \"9th\")]\n",
    "tenth_graders = school_data_complete[(school_data_complete[\"grade\"] == \"10th\")]\n",
    "eleventh_graders = school_data_complete[(school_data_complete[\"grade\"] == \"11th\")]\n",
    "twelfth_graders = school_data_complete[(school_data_complete[\"grade\"] == \"12th\")]\n",
    "\n",
    "# Group by `school_name` and take the mean of the the `reading_score` column for each.\n",
    "ninth_grade_reading_scores = ninth_graders.groupby(\"school_name\")[\"reading_score\"].mean()\n",
    "tenth_grader_reading_scores = tenth_graders.groupby(\"school_name\")[\"reading_score\"].mean()\n",
    "eleventh_grader_reading_scores = eleventh_graders.groupby(\"school_name\")[\"reading_score\"].mean()\n",
    "twelfth_grader_reading_scores = twelfth_graders.groupby(\"school_name\")[\"reading_score\"].mean()\n",
    "\n",
    "# Combine each of the scores above into single DataFrame called `reading_scores_by_grade`\n",
    "reading_scores_by_grade = pd.DataFrame({\n",
    "    \"9th\": ninth_grade_reading_scores,\n",
    "    \"10th\": tenth_grader_reading_scores,\n",
    "    \"11th\": eleventh_grader_reading_scores,\n",
    "    \"12th\": twelfth_grader_reading_scores\n",
    "})\n",
    "\n",
    "# Minor data wrangling\n",
    "reading_scores_by_grade.index.name = None\n",
    "\n",
    "# Display the DataFrame\n",
    "reading_scores_by_grade\n"
   ]
  },
  {
   "cell_type": "code",
   "execution_count": null,
   "id": "fbd78987-5472-4b85-99de-0e32ddd993e2",
   "metadata": {
    "tags": []
   },
   "outputs": [],
   "source": [
    "# Establish the bins \n",
    "spending_bins = [0, 585, 630, 645, 680]\n",
    "spending_labels = [\"<$585\", \"$585-630\", \"$630-645\", \"$645-680\"]"
   ]
  },
  {
   "cell_type": "code",
   "execution_count": null,
   "id": "cb8b05a1-29d8-457d-8032-de0324908c71",
   "metadata": {},
   "outputs": [],
   "source": [
    "# Create a copy of the school summary since it has the \"Per Student Budget\" \n",
    "school_spending_df = results_df.copy()"
   ]
  },
  {
   "cell_type": "code",
   "execution_count": null,
   "id": "47959203-fc53-4f0a-a166-35c9f3715ec2",
   "metadata": {},
   "outputs": [],
   "source": [
    "#Remove the dollar sign $ from Total School Budget and Per Student Budget\n",
    "school_spending_df[\"Total School Budget\"] = school_spending_df[\"Total School Budget\"].replace(\n",
    "    {\"\\$\": \"\", \",\": \"\"},\n",
    "    regex=True\n",
    ")\n",
    "school_spending_df['Per Student Budget'] = school_spending_df['Per Student Budget'].replace({'\\$': ''}, regex=True)\n",
    "\n",
    "# Convert \"Total School Budget\" column to numeric data type\n",
    "school_spending_df[\"Total School Budget\"] = pd.to_numeric(school_spending_df[\"Total School Budget\"])\n"
   ]
  },
  {
   "cell_type": "code",
   "execution_count": null,
   "id": "9148e909-e7a1-4639-a6cb-16b7aa58dd01",
   "metadata": {},
   "outputs": [],
   "source": [
    "# Convert \"Per Student Budget\" column to a numeric data type\n",
    "school_spending_df[\"Per Student Budget\"] = pd.to_numeric(school_spending_df[\"Per Student Budget\"])\n",
    "\n",
    "# Categorize spending based on the bins and create a new column called \"Spending Ranges (Per Student)\"\n",
    "school_spending_df[\"Spending Ranges (Per Student)\"] = pd.cut(school_spending_df[\"Per Student Budget\"], spending_bins, labels=spending_labels)\n",
    "\n",
    "# Group the data by spending ranges and calculate the mean values for each column\n",
    "spending_grouped = school_spending_df.groupby(\"Spending Ranges (Per Student)\").mean()\n",
    "\n",
    "# Create a new DataFrame with the calculated values\n",
    "spending_summary = pd.DataFrame({\n",
    "    \"Average Math Score\": spending_grouped[\"Average Math Score\"],\n",
    "    \"Average Reading Score\": spending_grouped[\"Average Reading Score\"],\n",
    "    \"% Passing Math\": spending_grouped[\"% Passing Math\"],\n",
    "    \"% Passing Reading\": spending_grouped[\"% Passing Reading\"],\n",
    "    \"% Overall Passing\": spending_grouped[\"% Overall Passing\"]\n",
    "})\n",
    "\n",
    "# Format the \"Total School Budget\" and \"Per Student Budget\" columns as currency\n",
    "spending_summary[\"Total School Budget\"] = spending_grouped[\"Total School Budget\"].map(\"${:,.2f}\".format)\n",
    "spending_summary[\"Per Student Budget\"] = spending_grouped[\"Per Student Budget\"].map(\"${:,.2f}\".format)\n",
    "spending_math_scores = school_spending_df.groupby([\"Spending Ranges (Per Student)\"])[\"Average Math Score\"].mean()\n",
    "spending_reading_scores = school_spending_df.groupby([\"Spending Ranges (Per Student)\"])[\"Average Reading Score\"].mean()\n",
    "spending_passing_math = school_spending_df.groupby([\"Spending Ranges (Per Student)\"])[\"% Passing Math\"].mean()\n",
    "spending_passing_reading = school_spending_df.groupby([\"Spending Ranges (Per Student)\"])[\"% Passing Reading\"].mean()\n",
    "overall_passing_spending = school_spending_df.groupby([\"Spending Ranges (Per Student)\"])[\"% Overall Passing\"].mean()\n",
    "# create the spending bins and labels\n",
    "spending_bins = [0, 585, 630, 645, 680]\n",
    "spending_labels = [\"<$585\", \"$585-630\", \"$630-645\", \"$645-680\"]\n",
    "\n",
    "# use pd.cut to categorize spending\n",
    "school_spending_df[\"Spending Ranges (Per Student)\"] = pd.cut(school_spending_df[\"Per Student Budget\"], spending_bins, spending_labels)\n",
    "school_spending_df"
   ]
  },
  {
   "cell_type": "code",
   "execution_count": null,
   "id": "6796fbf0-5abd-4fce-9c12-a9c24925d2c9",
   "metadata": {
    "tags": []
   },
   "outputs": [],
   "source": [
    "# Display the summary table\n",
    "spending_summary\n"
   ]
  },
  {
   "cell_type": "code",
   "execution_count": null,
   "id": "a5bc5452-d447-478e-82c6-ad0971564a3a",
   "metadata": {},
   "outputs": [],
   "source": [
    "# Define bins and labels for school sizes\n",
    "size_bins = [0, 1000, 2000, 5000]\n",
    "size_labels = [\"Small (<1000)\", \"Medium (1000-2000)\", \"Large (2000-5000)\"]\n",
    "\n",
    "# Categorize schools based on size\n",
    "school_spending_df[\"School Size\"] = pd.cut(school_spending_df[\"Total Students\"], size_bins, labels=size_labels)\n",
    "\n",
    "\n",
    "# Group the per_school_summary DataFrame by School Size\n",
    "size_grouped = school_spending_df.groupby(\"School Size\")\n",
    "\n",
    "# Calculate the mean values for each column and create the size_summary DataFrame\n",
    "size_summary = pd.DataFrame({\n",
    "    \"Average Math Score\": size_grouped[\"Average Math Score\"].mean(),\n",
    "    \"Average Reading Score\": size_grouped[\"Average Reading Score\"].mean(),\n",
    "    \"% Passing Math\": size_grouped[\"% Passing Math\"].mean(),\n",
    "    \"% Passing Reading\": size_grouped[\"% Passing Reading\"].mean(),\n",
    "    \"% Overall Passing\": size_grouped[\"% Overall Passing\"].mean()\n",
    "})\n",
    "school_spending_df"
   ]
  },
  {
   "cell_type": "code",
   "execution_count": null,
   "id": "6a62f077-2b2b-41bc-86dc-6d7eced28c8a",
   "metadata": {},
   "outputs": [],
   "source": [
    "# Calculate the mean values for each column and create the size_summary DataFrame\n",
    "size_summary = pd.DataFrame({\n",
    "    \"Average Math Score\": size_grouped[\"Average Math Score\"].mean(),\n",
    "    \"Average Reading Score\": size_grouped[\"Average Reading Score\"].mean(),\n",
    "    \"% Passing Math\": size_grouped[\"% Passing Math\"].mean(),\n",
    "    \"% Passing Reading\": size_grouped[\"% Passing Reading\"].mean(),\n",
    "    \"% Overall Passing\": size_grouped[\"% Overall Passing\"].mean()\n",
    "})\n",
    "school_spending_df\n",
    "# print size summary\n",
    "size_summary"
   ]
  },
  {
   "cell_type": "code",
   "execution_count": null,
   "id": "0ad4a9ad-ce58-407c-9e90-917db6c7e339",
   "metadata": {},
   "outputs": [],
   "source": [
    "# Group the per_school_summary DataFrame by School Type\n",
    "type_grouped = school_spending_df.groupby(\"School Type\")\n",
    "\n",
    "# Calculate the mean values for each column and create the type_summary DataFrame\n",
    "type_summary = pd.DataFrame({\n",
    "    \"Average Math Score\": type_grouped[\"Average Math Score\"].mean(),\n",
    "    \"Average Reading Score\": type_grouped[\"Average Reading Score\"].mean(),\n",
    "    \"% Passing Math\": type_grouped[\"% Passing Math\"].mean(),\n",
    "    \"% Passing Reading\": type_grouped[\"% Passing Reading\"].mean(),\n",
    "    \"% Overall Passing\": type_grouped[\"% Overall Passing\"].mean()\n",
    "})\n",
    "\n",
    "# Print the type_summary DataFrame\n",
    "type_summary"
   ]
  },
  {
   "cell_type": "code",
   "execution_count": null,
   "id": "f4b25464-213e-413c-b4aa-e36845a92259",
   "metadata": {},
   "outputs": [],
   "source": []
  }
 ],
 "metadata": {
  "kernelspec": {
   "display_name": "Python 3 (ipykernel)",
   "language": "python",
   "name": "python3"
  },
  "language_info": {
   "codemirror_mode": {
    "name": "ipython",
    "version": 3
   },
   "file_extension": ".py",
   "mimetype": "text/x-python",
   "name": "python",
   "nbconvert_exporter": "python",
   "pygments_lexer": "ipython3",
   "version": "3.9.13"
  }
 },
 "nbformat": 4,
 "nbformat_minor": 5
}
